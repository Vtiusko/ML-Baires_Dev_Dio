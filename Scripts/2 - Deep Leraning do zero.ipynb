{
 "cells": [
  {
   "cell_type": "code",
   "execution_count": 1,
   "id": "48cd83fc",
   "metadata": {},
   "outputs": [],
   "source": [
    "from   torchvision import transforms, datasets\n",
    "import torchvision\n",
    "\n",
    "import torch.nn.functional as F\n",
    "from   torch import nn, optim\n",
    "import torch\n",
    "\n",
    "import matplotlib.pyplot as plt\n",
    "from   time import time\n",
    "import numpy as np"
   ]
  },
  {
   "cell_type": "code",
   "execution_count": 2,
   "id": "e662461c",
   "metadata": {},
   "outputs": [],
   "source": [
    "# Baixando as imagens e convertendo para tensor\n",
    "# Definindo a transformação de imagem para o modelo (Tensor)\n",
    "transform = transforms.ToTensor()\n",
    "\n",
    "# =====================================================================\n",
    "# =====================================================================\n",
    "trainset = datasets.MNIST( # Carregando o conjunto de dados MNIST\n",
    "    './MNIST_data/',       # Parte do treino do dataset\n",
    "    download=True,\n",
    "    train=True,\n",
    "    transform=transform)\n",
    "\n",
    "trainloader = torch.utils.data.DataLoader(\n",
    "    trainset,       # Criando o DataLoader para o conjunto de treino\n",
    "    batch_size=64,  # Cria um buffer para pegar os dados por partes\n",
    "    shuffle=True)\n",
    "\n",
    "\n",
    "# =====================================================================\n",
    "# =====================================================================\n",
    "valset = datasets.MNIST( # Carrega parte da validação do dataset\n",
    "    './MNIST_data/',\n",
    "    download=True,\n",
    "    train=False,\n",
    "    transform=transform)\n",
    "\n",
    "valloader = torch.utils.data.DataLoader(\n",
    "    valset,    # Cria um buffer para pegar os dados por partes\n",
    "    batch_size=64,\n",
    "    shuffle=False)\n",
    "\n",
    "# =====================================================================\n",
    "# =====================================================================\n"
   ]
  },
  {
   "cell_type": "code",
   "execution_count": 3,
   "id": "2cab7d84",
   "metadata": {},
   "outputs": [
    {
     "data": {
      "text/plain": [
       "<matplotlib.image.AxesImage at 0x1740885f320>"
      ]
     },
     "execution_count": 3,
     "metadata": {},
     "output_type": "execute_result"
    },
    {
     "data": {
      "image/png": "[encoded data removed]",
      "text/plain": [
       "<Figure size 640x480 with 1 Axes>"
      ]
     },
     "metadata": {},
     "output_type": "display_data"
    }
   ],
   "source": [
    "# Carregando uma imagem do treinamento\n",
    "\n",
    "dataiter = iter(trainloader)\n",
    "imagens, labels = next(dataiter)\n",
    "\n",
    "plt.imshow(imagens[0].numpy().squeeze(), cmap='gray_r')  # Mostra a imagem"
   ]
  },
  {
   "cell_type": "code",
   "execution_count": 4,
   "id": "b7949175",
   "metadata": {},
   "outputs": [
    {
     "name": "stdout",
     "output_type": "stream",
     "text": [
      "torch.Size([1, 28, 28])\n",
      "torch.Size([])\n"
     ]
    }
   ],
   "source": [
    "print(imagens[0].shape) # Para verificar as dimensões do tensor de cada imagem\n",
    "print(labels[0].shape)  # Para verificar as dimensões do label de cada imagem"
   ]
  },
  {
   "cell_type": "code",
   "execution_count": 5,
   "id": "4869f238",
   "metadata": {},
   "outputs": [],
   "source": [
    "# Copiar as camadas da rede InceptionV3\n",
    "class Modelo(nn.Module):\n",
    "    def __init__(self):\n",
    "        super(Modelo, self).__init__()  # Inicializa a classe pai\n",
    "        self.linear1 = nn. Linear(28*28, 128) # Camada de entrada, 784 neuronios que se ligan a 128\n",
    "        self.linear2 = nn. Linear(128, 64) # Camada interna 1, 128 neuronios que se ligan a 64\n",
    "        self.linear3 = nn.Linear(64, 10) # Camada interna 2, 64 neuronios que se ligam a 10\n",
    "# para a camada de saida nao e necessario definir nada pois so precisamos pegar o output da camada interna 2\n",
    "\n",
    "    def forward(self, X):\n",
    "        X = F.relu(self.linear1(X)) # Funcão de ativacão da camada de entrada para a camada interna 1\n",
    "        X = F.relu(self.linear2(X)) # Funcao de ativacao da camada interna 1 para a camada interna 2\n",
    "        X = self.linear3(X) # Função de ativação da camada interna 2 para a camada de saida, nesse caso f(x) = x\n",
    "        return F.log_softmax(X, dim=1) # Dados utilizados para calcular a perda"
   ]
  },
  {
   "cell_type": "code",
   "execution_count": 6,
   "id": "fb68b638",
   "metadata": {},
   "outputs": [],
   "source": [
    "# Implementar a parte de otimização da rede\n",
    "# onde é a primeira vista a parte de atualização dos pesos\n",
    "# para isso devemos utilizar um \"otimizador\"\n",
    "\n",
    "def treinar_modelo(modelo, trainloader, device):\n",
    "    # define a política de atualização dos pesos e da bias\n",
    "    otimizador = optim.SGD(modelo.parameters(), lr=0.01, momentum=0.5)\n",
    "    inicio = time() # Time para saber quanto tempo levou o treinamento \n",
    "\n",
    "    criterio = nn.NLLLoss() # Define o critério para calcular a perda\n",
    "    EPOCHS = 30 # Define o número de épocas para o treinamento\n",
    "    modelo.train() # Ativa o modo de treinamento do modelo\n",
    "\n",
    "    for epoch in range(EPOCHS):\n",
    "        perda_acumulada = 0 # inicia a contagem da perda acumulada\n",
    "\n",
    "        for imagens, etiquetas in trainloader:\n",
    "            imagens = imagens.view(imagens.shape[0], -1) # Redimensiona as imagens para \"Vetores\" de 28*28 casas para ficarem compatíveis com a entrada da rede\n",
    "            otimizador.zero_grad() # Zera os gradientes do otimizador por conta do ciclo anterior\n",
    "\n",
    "            output = modelo(imagens.to(device)) # Passa as imagens pelo modelo\n",
    "            perda_instantanea = criterio(output, etiquetas.to(device)) # Calcula a perda da época em questão\n",
    "            perda_instantanea.backward() # Backpropagation à partir da perda\n",
    "\n",
    "            otimizador.step() # Atualiza os pesos do modelo e as bias\n",
    "            perda_acumulada += perda_instantanea.item() # Atualização da perda acumulada\n",
    "\n",
    "        else:\n",
    "            print(f\"Epoch {epoch+1}/{EPOCHS}, Perda: {perda_acumulada/len(trainloader)}\", end='\\n\\n')\n",
    "    print(f\"Tempo total de treinamento em minutos: {(time() - inicio) / 60} minutos\")"
   ]
  },
  {
   "cell_type": "code",
   "execution_count": 7,
   "id": "69207e41",
   "metadata": {},
   "outputs": [],
   "source": [
    "# Implementando o modelo de validação\n",
    "# Vai nos mostrar a precisão do modelo (Acurácia)\n",
    "def validacao(modelo, valloader, device):\n",
    "    conta_corretas, conta_todas = 0, 0\n",
    "\n",
    "    for imagens,etiquetas in valloader:\n",
    "        for i in range(len(etiquetas)):\n",
    "            img = imagens[i].view(1, 784)\n",
    "\n",
    "            # Desativar o autograd para acelerar a validacao. Grafos computacionais dinâmicos tem um custo alto de processamento\n",
    "            with torch.no_grad():\n",
    "                logps = modelo(img.to(device)) # Output do modelo em escala logaritmica\n",
    "\n",
    "            ps = torch.exp(logps) # Converte output para escala normal(lembrando que é um tensor)\n",
    "            probab = list(ps.cpu().numpy()[0])\n",
    "            etiqueta_pred = probab.index(max(probab)) # Converte o tensor em um número, no caso, o número que o modelo previu como correto\n",
    "            etiqueta_certa = etiquetas.numpy()[i]\n",
    "            \n",
    "            if(etiqueta_certa == etiqueta_pred): # Compara a previsão com o valor correto\n",
    "                conta_corretas += 1\n",
    "            conta_todas += 1\n",
    "\n",
    "    print(\"Total de imagens testadas =\", conta_todas)\n",
    "    print(\"\\nPrecisão do modelo = {}%\".format(conta_corretas*100/conta_todas))\n"
   ]
  },
  {
   "cell_type": "code",
   "execution_count": 8,
   "id": "5b3b8b8a",
   "metadata": {},
   "outputs": [
    {
     "data": {
      "text/plain": [
       "Modelo(\n",
       "  (linear1): Linear(in_features=784, out_features=128, bias=True)\n",
       "  (linear2): Linear(in_features=128, out_features=64, bias=True)\n",
       "  (linear3): Linear(in_features=64, out_features=10, bias=True)\n",
       ")"
      ]
     },
     "execution_count": 8,
     "metadata": {},
     "output_type": "execute_result"
    }
   ],
   "source": [
    "# Verificando se temos uma GPU disponível para treinamento\n",
    "modelo = Modelo()\n",
    "device = torch.device('cuda' if torch.cuda.is_available() else 'cpu')\n",
    "modelo.to(device)"
   ]
  },
  {
   "cell_type": "code",
   "execution_count": null,
   "id": "265bf164",
   "metadata": {},
   "outputs": [
    {
     "name": "stdout",
     "output_type": "stream",
     "text": [
      "Epoch 1/30, Perda: 1.1310881617099746\n",
      "\n",
      "Epoch 2/30, Perda: 0.37968996693012813\n",
      "\n",
      "Epoch 3/30, Perda: 0.3133257011106528\n",
      "\n",
      "Epoch 4/30, Perda: 0.2762480244072261\n",
      "\n",
      "Epoch 5/30, Perda: 0.24591628469224933\n",
      "\n",
      "Epoch 6/30, Perda: 0.219185466419405\n",
      "\n",
      "Epoch 7/30, Perda: 0.19676710673963338\n",
      "\n",
      "Epoch 8/30, Perda: 0.17802948775147198\n",
      "\n",
      "Epoch 9/30, Perda: 0.16179067264996103\n",
      "\n",
      "Epoch 10/30, Perda: 0.14814073337055345\n",
      "\n",
      "Epoch 11/30, Perda: 0.13649728345368972\n",
      "\n",
      "Epoch 12/30, Perda: 0.12649967342511867\n",
      "\n",
      "Epoch 13/30, Perda: 0.1178989146125199\n",
      "\n",
      "Epoch 14/30, Perda: 0.11046333207901735\n",
      "\n",
      "Epoch 15/30, Perda: 0.1030012609939506\n",
      "\n",
      "Epoch 16/30, Perda: 0.09664813100274947\n",
      "\n",
      "Epoch 17/30, Perda: 0.0908314059399116\n",
      "\n",
      "Epoch 18/30, Perda: 0.08577188144652431\n",
      "\n",
      "Epoch 19/30, Perda: 0.08136602376909383\n",
      "\n",
      "Epoch 20/30, Perda: 0.0767959913632064\n",
      "\n",
      "Epoch 21/30, Perda: 0.07280345661029505\n",
      "\n",
      "Epoch 22/30, Perda: 0.06895138304541583\n",
      "\n",
      "Epoch 23/30, Perda: 0.06577232576060746\n",
      "\n",
      "Epoch 24/30, Perda: 0.06231128166951954\n",
      "\n",
      "Epoch 25/30, Perda: 0.05964452837472722\n",
      "\n",
      "Epoch 26/30, Perda: 0.056050863951496256\n",
      "\n",
      "Epoch 27/30, Perda: 0.054150387657675214\n",
      "\n",
      "Epoch 28/30, Perda: 0.05110974709363356\n",
      "\n",
      "Epoch 29/30, Perda: 0.04883739652622467\n",
      "\n",
      "Epoch 30/30, Perda: 0.046629648051733\n",
      "\n",
      "Tempo total de treinamento em minutos: 2.1737381259600324 minutos\n",
      "Total de imagens testadas = 10000\n",
      "\n",
      "Precisão do modelo = 97.76%\n"
     ]
    },
    {
     "ename": "",
     "evalue": "",
     "output_type": "error",
     "traceback": [
      "\u001b[1;31mO Kernel deu pane ao executar o código na célula atual ou em uma célula anterior. \n",
      "\u001b[1;31mAnalise o código nas células para identificar uma possível causa da pane. \n",
      "\u001b[1;31mClique <a href='https://aka.ms/vscodeJupyterKernelCrash'>aqui</a> para obter mais informações. \n",
      "\u001b[1;31mConsulte Jupyter <a href='command:jupyter.viewOutput'>log</a> para obter mais detalhes."
     ]
    }
   ],
   "source": [
    "# Chamando o modelo para executar nosso treinamento e validação\n",
    "treinar_modelo(modelo, trainloader, device)\n",
    "validacao(modelo, valloader, device)"
   ]
  }
 ],
 "metadata": {
  "kernelspec": {
   "display_name": "venv",
   "language": "python",
   "name": "python3"
  },
  "language_info": {
   "codemirror_mode": {
    "name": "ipython",
    "version": 3
   },
   "file_extension": ".py",
   "mimetype": "text/x-python",
   "name": "python",
   "nbconvert_exporter": "python",
   "pygments_lexer": "ipython3",
   "version": "3.12.10"
  }
 },
 "nbformat": 4,
 "nbformat_minor": 5
}
